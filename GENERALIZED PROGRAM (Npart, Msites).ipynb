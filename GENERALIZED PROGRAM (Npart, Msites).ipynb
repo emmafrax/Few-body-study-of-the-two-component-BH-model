{
 "cells": [
  {
   "cell_type": "markdown",
   "metadata": {},
   "source": [
    "**EIGENVALUES AND EIGENSTATES FOR M sites and N particles**"
   ]
  },
  {
   "cell_type": "code",
   "execution_count": 1,
   "metadata": {},
   "outputs": [],
   "source": [
    "%matplotlib inline\n",
    "import matplotlib.pyplot as plt\n",
    "import numpy as np\n",
    "from scipy.linalg import eigvalsh_tridiagonal, eigvalsh, eigh\n",
    "import timeit\n",
    "from matplotlib.lines import Line2D\n",
    "from matplotlib.pyplot import cm\n",
    "import matplotlib.patches as mpatches\n",
    "\n",
    "\n"
   ]
  },
  {
   "cell_type": "markdown",
   "metadata": {},
   "source": [
    "**Definition of the parameters**"
   ]
  },
  {
   "cell_type": "code",
   "execution_count": 76,
   "metadata": {},
   "outputs": [],
   "source": [
    "m=2\n",
    "n=1\n",
    "U=1\n",
    "J=1"
   ]
  },
  {
   "cell_type": "markdown",
   "metadata": {},
   "source": [
    "**Number of states for the basis** - Identical particles"
   ]
  },
  {
   "cell_type": "code",
   "execution_count": 77,
   "metadata": {},
   "outputs": [
    {
     "name": "stdout",
     "output_type": "stream",
     "text": [
      "2\n"
     ]
    }
   ],
   "source": [
    "def n_states(sites,particles):\n",
    "    number = (np.math.factorial(sites+particles-1)/(np.math.factorial(particles)*np.math.factorial(sites-1)))\n",
    "    return number\n",
    "\n",
    "n_s= int(n_states(m,n))\n",
    "print(n_s)"
   ]
  },
  {
   "cell_type": "markdown",
   "metadata": {},
   "source": [
    "### **Generation of basis states**\n",
    "Source: https://docs.python.org/3/library/itertools.html"
   ]
  },
  {
   "cell_type": "code",
   "execution_count": 78,
   "metadata": {},
   "outputs": [
    {
     "name": "stdout",
     "output_type": "stream",
     "text": [
      "combinations =\n",
      "[[1. 0.]\n",
      " [0. 1.]]\n",
      "number of unique combinations = 2\n"
     ]
    }
   ],
   "source": [
    "options = []\n",
    "for i in range(m):\n",
    "    empty = np.zeros(m)\n",
    "    empty[i] = 1\n",
    "    options.append(empty)\n",
    "    \n",
    "def combinations_with_replacement(iterable, r):\n",
    "    \n",
    "    # pool constants\n",
    "    pool = iterable\n",
    "    n = len(pool)\n",
    "    \n",
    "    # something missing\n",
    "    if not n and r:\n",
    "        return\n",
    "    \n",
    "    # create combination indices\n",
    "    indices = [0] * r\n",
    "    \n",
    "    # first combination\n",
    "    yield tuple(pool[i] for i in indices)\n",
    "    \n",
    "    # other combinations\n",
    "    while True:\n",
    "        for i in reversed(range(r)):\n",
    "            if indices[i] != n - 1:\n",
    "                break\n",
    "        else:\n",
    "            return\n",
    "        indices[i:] = [indices[i] + 1] * (r - i)\n",
    "        #print(indices)\n",
    "        yield tuple(pool[i] for i in indices)\n",
    "        \n",
    "combinations_raw = combinations_with_replacement(options, n)\n",
    "combinations = [sum(i) for i in combinations_raw]\n",
    "basis_unique = np.vstack(combinations)\n",
    "print(\"combinations =\")\n",
    "print(basis_unique)\n",
    "print(\"number of unique combinations =\", len(basis_unique))"
   ]
  },
  {
   "cell_type": "markdown",
   "metadata": {},
   "source": [
    "Bulding the operators alone and **HOPPING TERM** "
   ]
  },
  {
   "cell_type": "code",
   "execution_count": 79,
   "metadata": {},
   "outputs": [
    {
     "name": "stdout",
     "output_type": "stream",
     "text": [
      "[0. 1.]\n",
      "-1.0\n"
     ]
    }
   ],
   "source": [
    "#ANIHILATION OPERATOR\n",
    "#entry parameters: initial state and index of the monoparticular state\n",
    "#returns a zero if that monoparticular state is empty\n",
    "#returns the result state and coefficient otherwise\n",
    "\n",
    "def anih(state,index):\n",
    "    if state[index] == 0:\n",
    "        result_a = 0\n",
    "        coef_a =0\n",
    "    else:\n",
    "        result_a = np.copy(state)\n",
    "        result_a[index] = result_a[index] -1\n",
    "        coef_a= np.sqrt(state[index])\n",
    "    return [result_a,coef_a]\n",
    "\n",
    "\n",
    "#CREATION OPERATOR\n",
    "#entry parameters: initial state and index of the monoparticular state\n",
    "#returns the result state and coefficient \n",
    "\n",
    "\n",
    "def  crea(state,index):\n",
    "    result_c = np.copy(state)\n",
    "    result_c[index] = result_c[index] +1\n",
    "    coef_c= np.sqrt(state[index]+1)\n",
    "    return [result_c,coef_c]\n",
    "\n",
    "#HOPPING TERM\n",
    "#both operators acting like in the hopping term of the Bose-Hubbard Hamiltonian\n",
    "#entry parameters: initial state, index_i (of the creation operator), index_j(of the anihilation operator)\n",
    "#and scalar J(optional, otherwise =1)\n",
    "#returns the result state and coefficient \n",
    "\n",
    "def hopping_adi_aj(state,index_i,index_j,J_term):\n",
    "    if state[index_j] == 0:\n",
    "        result_a = 0\n",
    "        coef_j =0\n",
    "    else:\n",
    "        result_a = np.copy(state)\n",
    "        result_a[index_j] -=  1\n",
    "        result_a[index_i] +=  1\n",
    "        coef_a= np.sqrt(state[index_j])\n",
    "        coef_c= np.sqrt(state[index_i]+1)\n",
    "        coef_j= -1*coef_a*coef_c*J_term\n",
    "        # do i want to return coef_a,coef_c?\n",
    "    return [result_a,coef_j]\n",
    "\n",
    "\n",
    "#testing on a state s of the basis\n",
    "s = basis_unique[0,:]\n",
    "\n",
    "result_h, coefficient_t=hopping_adi_aj(s,1,0,1)\n",
    "print(result_h)\n",
    "\n",
    "print(coefficient_t)\n",
    "\n"
   ]
  },
  {
   "cell_type": "markdown",
   "metadata": {},
   "source": [
    "**INTERACTION TERM**"
   ]
  },
  {
   "cell_type": "code",
   "execution_count": 80,
   "metadata": {},
   "outputs": [
    {
     "name": "stdout",
     "output_type": "stream",
     "text": [
      "0\n",
      "0\n"
     ]
    }
   ],
   "source": [
    "#INTERACTION TERM\n",
    "#both operators acting like in the interaction term of the Bose-Hubbard Hamiltonian\n",
    "#entry parameters: initial state, index_i (of both operators, or operator n_i)\n",
    "#and scalar U(optional, otherwise =1)\n",
    "#returns the result state(same as the entry state) and coefficient \n",
    "\n",
    "def interaction_i(state,index_i,U_term):\n",
    "    if state[index_i] == 0:\n",
    "        result_n = 0\n",
    "        coef_n =0\n",
    "    else:\n",
    "        result_n = np.copy(state)\n",
    "        #print(state[index_i])\n",
    "        coef_n= (((state[index_i])**2)-state[index_i])*(U_term/2)\n",
    "    return [result_n,coef_n]\n",
    "\n",
    "\n",
    "\n",
    "#testing in a state s of the basis\n",
    "result_i, coefficient_i= interaction_i(s,1,1)\n",
    "print(result_i)\n",
    "print(coefficient_i)"
   ]
  },
  {
   "cell_type": "markdown",
   "metadata": {},
   "source": [
    "**BUILDING THE HAMILTONIAN**"
   ]
  },
  {
   "cell_type": "code",
   "execution_count": 81,
   "metadata": {},
   "outputs": [],
   "source": [
    "#HAMILTONIAN FUNCTION\n",
    "\n",
    "#Builds the matrix form of the Hamiltonian so that we can diagonalize it to find the eigenstates and eigenvalues\n",
    "\n",
    "#ENTRIES:\n",
    "#-> basis : basis state used to build the Hamiltonian matrix (list of vectors)\n",
    "#-> n_particles : number of particles\n",
    "#-> n_states : number of states in the basis\n",
    "#-> m_sites : number of sites\n",
    "#-> J_term, U_term : optional parameters ( from the Bose-Hubbard Hamiltonian), otherwise set to 1.\n",
    "#RETURNS:\n",
    "#-> H : Matrix hamiltonian\n",
    "\n",
    "    \n",
    "def Hamiltonian(basis,n_particles,n_states,m_sites,J_term = 1,U_term =1):\n",
    "    \n",
    "    H = np.zeros([n_states,n_states])\n",
    "    \n",
    "\n",
    "#create list of dictionaries, each dictionary corresponds to a vector where I operate the hamiltonian\n",
    "    list_dictionaries =[]\n",
    "    for i in range(0,n_states):\n",
    "        dictionary ={}\n",
    "        list_dictionaries.append(dictionary)\n",
    "\n",
    "#create keys of each dictionary, one for each vector of the basis that will come up as a result\n",
    "#fill each key with an empty list, where the coefficients are gonna be\n",
    "        for j in range(0,n_states):\n",
    "            list_dictionaries[i]['%s' % basis[j]]= [] \n",
    "\n",
    "\n",
    "    #testing\n",
    "    #print(list_dictionaries[2])\n",
    "    #print(list_dictionaries)\n",
    "\n",
    "#HOPPING TERM for open conditions(only in case of two sites)\n",
    "    if m_sites==2:\n",
    "        #print(\"2 sites: open conditions\")\n",
    "        \n",
    "            #j tells me which dictionary am I using\n",
    "            #the new_states will give me the hint of  which key do I put the coefficient in\n",
    "            \n",
    "        for j in range(0,n_states):\n",
    "            state = basis[j,:]\n",
    "            new_state_o1,coef_o1= hopping_adi_aj(state,0,1,J_term)\n",
    "            new_state_o2,coef_o2= hopping_adi_aj(state,1,0,J_term)\n",
    "            \n",
    "            #testing\n",
    "            #print(state)\n",
    "            #print(\"estat1\",new_state_o1,\"coeficient\", coef_1)\n",
    "            #print(\"estat2\",new_state_o2,\"coeficient\", coef_2)\n",
    "            \n",
    "            #adding the coefficients to the corresponding key\n",
    "            list_dictionaries[j]['%s' % new_state_o1]=[coef_o1]\n",
    "            list_dictionaries[j]['%s' % new_state_o2]=[coef_o2]\n",
    "            \n",
    "#HOPPING TERM for periodic conditions\n",
    "    else:\n",
    "        #i counts for the number of sites\n",
    "        for i in range(0,m_sites):\n",
    "            \n",
    "            #t tells me which dictionary am I using and what state of the basis I am working with\n",
    "            #the new_states will give me the hint of  which key do I put the coefficient in\n",
    "            \n",
    "            for t in range(0,n_states):\n",
    "                state = basis[t,:]\n",
    "                \n",
    "                #for the last site, we apply the periodic conditions. ( hopping both ways i<->j)\n",
    "                # in this case (j= right neigbour = first site)\n",
    "                if i == m_sites-1: \n",
    "                    new_state_2,coef_2= hopping_adi_aj(state,i,0,J_term) \n",
    "                    new_state_1,coef_1= hopping_adi_aj(state,0,i,J_term)\n",
    "                \n",
    "                #for the other sites, we just count the site and it's right neighbour ( hopping both ways i<->j)\n",
    "                else:\n",
    "                    new_state_1,coef_1= hopping_adi_aj(state,i,i+1,J_term)\n",
    "                    new_state_2,coef_2= hopping_adi_aj(state,i+1,i,J_term)\n",
    "                #print(state)\n",
    "                #print(\"estat\",new_state_1,\"coeficient\", coef_1)\n",
    "                #print(\"estat\",new_state_2,\"coeficient\", coef_2)\n",
    "                \n",
    "                #we add the coefficients in the corresponding dictionary and it's key\n",
    "                list_dictionaries[t]['%s' % new_state_1]=[coef_1]\n",
    "                list_dictionaries[t]['%s' % new_state_2]=[coef_2]\n",
    "    \n",
    "#INTERACTION TERM : Only for more than 1 particle\n",
    "    if n_particles != 1:\n",
    "        for i in range(0,m_sites):\n",
    "                #t tells me which dictionary am I using\n",
    "                #the state_1 are the same as the entry states\n",
    "                for t in range(0,n_states):\n",
    "                    state = basis[t,:]\n",
    "                    state_1,coef_i1= interaction_i(state,i,U_term)\n",
    "\n",
    "                    #print(state)\n",
    "                    #print(\"estat\",state_1,\"coeficient\", coef_i1)\n",
    "                    #print(list_dictionaries[j])\n",
    "                    list_dictionaries[t]['%s' % state_1].append(coef_i1)\n",
    "\n",
    "    \n",
    "    #erase the zeros added -- a key \"0\" is added because of the anihilation operator\n",
    "    for j in range(0,n_states):\n",
    "        try:\n",
    "            del list_dictionaries[j][\"0\"]\n",
    "        except:\n",
    "            continue\n",
    "\n",
    "    \n",
    "    \n",
    "    #Adding the values in the matrix\n",
    "    #j is each column\n",
    "    for j in range(0,n_states):\n",
    "        \n",
    "        #i is each row and the index of each vector from the basis\n",
    "        #k is the key to enter the coefficients of each vector and each dictionary\n",
    "        for i, k in enumerate(list_dictionaries[j].keys()):\n",
    "            \n",
    "            #value will be the list of coefficients accumulated\n",
    "            value= list_dictionaries[j][k]\n",
    "            \n",
    "            #print(j,i,value)\n",
    "            \n",
    "            #if there isn't any coefficient accumulated, then the site is zero\n",
    "            if len(value) == 0:\n",
    "                H[i][j] = 0\n",
    "                \n",
    "            #otherwise, the value of that site of the matrix will be the sum of the coefficients\n",
    "            else:\n",
    "                H[i][j] = sum(value)\n",
    "    \n",
    "    return H\n",
    "    \n"
   ]
  },
  {
   "cell_type": "markdown",
   "metadata": {},
   "source": [
    "**Calculate eigenvalues and eigenstates**"
   ]
  },
  {
   "cell_type": "code",
   "execution_count": 82,
   "metadata": {},
   "outputs": [
    {
     "name": "stdout",
     "output_type": "stream",
     "text": [
      "2.0\n",
      "[[1. 0.]\n",
      " [0. 1.]]\n",
      "[-1.  1.]\n",
      "[[-0.70710678 -0.70710678]\n",
      " [-0.70710678  0.70710678]]\n",
      "0.4999999999999999 0.4999999999999999\n",
      "0.4999999999999999 0.4999999999999999\n"
     ]
    }
   ],
   "source": [
    "J = 1\n",
    "Ud = 50\n",
    "Uab_d = 0\n",
    "rd = 1+ (Uab_d/Ud)\n",
    "\n",
    "matrixx= Hamiltonian(basis_unique,n,n_s,m,J,Ud)            \n",
    "autov,autos=eigh(matrixx)\n",
    "print(autov[1]-autov[0])\n",
    "\n",
    "print(basis_unique)\n",
    "print(autov)\n",
    "print(autos)\n",
    "#print(autos[0][0]**2,autos[1][0]**2,autos[2][0]**2)\n",
    "#print(autos[0][1]**2,autos[1][1]**2,autos[2][1]**2)\n",
    "print(autos[0][0]**2,autos[1][0]**2)\n",
    "print(autos[0][1]**2,autos[1][1]**2)"
   ]
  },
  {
   "cell_type": "code",
   "execution_count": 83,
   "metadata": {},
   "outputs": [
    {
     "name": "stdout",
     "output_type": "stream",
     "text": [
      "[[0.4999999999999999, 0.4999999999999999], [0.4999999999999999, 0.4999999999999999]]\n",
      "[[0, 0], [0, 0]]\n"
     ]
    }
   ],
   "source": [
    "densities = []\n",
    "densities_A =[]\n",
    "densities_B =[]\n",
    "densities_A2 =[]\n",
    "densities_B2 =[]\n",
    "\n",
    "for i in range(m):\n",
    "    density = {}\n",
    "    densities.append(density)\n",
    "    \n",
    "points = []\n",
    "\n",
    "for k in range(m):\n",
    "\n",
    "    for t in range(m): \n",
    "        densities[k]['A%s' % (t+1)] = []\n",
    "        densities[k]['B%s' % (t+1)] = []\n",
    "        points.append(t+1)\n",
    "\n",
    "    for i in range(0,n_s):\n",
    "        prob = (autos[i,k])**2\n",
    "\n",
    "        for j in range(m):\n",
    "            prob_Am =(basis_unique[i][j])*prob\n",
    "            prob_Bm =0\n",
    "            densities[k]['A%s' % (j+1)].append(prob_Am)\n",
    "            densities[k]['B%s' % (j+1)].append(prob_Bm)\n",
    "\n",
    "\n",
    "    den_A = []\n",
    "    den_B = []\n",
    "\n",
    "    #sum over the different sites\n",
    "    for y in range(m):\n",
    "\n",
    "        value_A = densities[k]['A%s' % (y+1)]\n",
    "        value_At = sum(value_A)\n",
    "        value_B = densities[k]['B%s' % (y+1)]\n",
    "        value_Bt = sum(value_B)\n",
    "        densities[k]['A%s' % (y+1)]= value_At\n",
    "        densities[k]['B%s' % (y+1)]= value_Bt\n",
    "        den_A.append(value_At)\n",
    "        den_B.append(value_Bt)\n",
    "        \n",
    "\n",
    "    totalA = sum(den_A)   \n",
    "    totalB = sum(den_B)\n",
    "    den_A.append(totalA)\n",
    "    den_B.append(totalB)\n",
    "    densities_A2.append(den_A)\n",
    "    densities_B2.append(den_B)\n",
    "    densities[k]['Tot']= (totalA)\n",
    "    densities[k]['Tot']= (totalB)\n",
    "\n",
    "for b in range(m):\n",
    "    dA=[]\n",
    "    dB=[]\n",
    "    for w in range(m):\n",
    "        dA.append(densities[w]['A%s' % (b+1)])\n",
    "        dB.append(densities[w]['B%s' % (b+1)])\n",
    "        #dA.append(densities[w]['Tot'])\n",
    "        #dB.append(densities[w]['Tot'])\n",
    "    densities_A.append(dA)\n",
    "    densities_B.append(dB)\n",
    "        \n",
    "    \n",
    "print(densities_A)\n",
    "print(densities_B)"
   ]
  },
  {
   "cell_type": "code",
   "execution_count": 24,
   "metadata": {},
   "outputs": [
    {
     "data": {
      "image/png": "[encoded data removed]",
      "text/plain": [
       "<Figure size 720x504 with 1 Axes>"
      ]
     },
     "metadata": {
      "needs_background": "light"
     },
     "output_type": "display_data"
    }
   ],
   "source": [
    "# width of the bars\n",
    "barWidth = 0.3\n",
    " \n",
    "# Choose the height of the blue bars\n",
    "bars1 = densities_A[0]\n",
    "bars2 = densities_B[0]\n",
    "\n",
    "bars3 = densities_A[1]\n",
    "bars4 = densities_B[1]\n",
    "\n",
    "#bars5 = densities_A[2]\n",
    "#bars6 = densities_B[2]\n",
    "\n",
    "\n",
    " \n",
    "ticks =  (np.arange(len(bars1)))\n",
    "# The x position of bars\n",
    "r1 = ticks\n",
    "r2 = [x + 1.5*barWidth for x in r1]\n",
    "r3 = [x + 1.5*barWidth for x in r1]\n",
    "r4 = [x + 1.5*barWidth for x in r1]\n",
    "#r5 = [x + 6*barWidth for x in r1]\n",
    "#r6 = [x + 7*barWidth for x in r1]\n",
    "\n",
    "\n",
    "#title\n",
    "plt.figure(figsize=(10,7))\n",
    "plt.title('Ground state and first excited states density M={} sites N={}A,0B particles'.format(m,n), fontsize='14',y=1,x=0.5)\n",
    " \n",
    "# Create blue bars\n",
    "plt.bar(r1, bars1, width = barWidth, color = 'mistyrose', edgecolor = 'maroon', capsize=7)\n",
    "plt.bar(r2, bars2, width = barWidth, color = 'lightcoral', edgecolor = 'maroon', capsize=7)\n",
    "plt.bar(r3, bars3, width = barWidth, color = 'mistyrose', edgecolor = 'maroon', capsize=7)\n",
    "plt.bar(r4, bars4, width = barWidth, color = 'lightcoral', edgecolor = 'maroon', capsize=7)\n",
    "#plt.bar(r5, bars5, width = barWidth, color = 'mistyrose', edgecolor = 'maroon', capsize=7)\n",
    "#plt.bar(r6, bars6, width = barWidth, color = 'lightcoral', edgecolor = 'maroon', capsize=7)\n",
    "\n",
    "\n",
    "dark_patch = mpatches.Patch(facecolor='lightcoral',edgecolor = 'maroon',label='Particles B')\n",
    "light_patch = mpatches.Patch(facecolor='mistyrose',edgecolor = 'maroon', label='Particles A')\n",
    "plt.legend(handles=[dark_patch,light_patch])\n",
    "\n",
    " \n",
    "# general layout\n",
    "#plt.xticks([r + 5*barWidth for r in ticks], ['E0 :{:.3f}'.format(autov[0]), 'E1 :{:.3f}'.format(autov[1]), 'E2 :{:.3f}'.format(autov[2])])\n",
    "plt.xticks([r + 2*barWidth for r in ticks], ['E0 :{:.3f}'.format(autov[0]), 'E1 :{:.3f}'.format(autov[1])])\n",
    "plt.ylabel(r'Density (site probability)')\n",
    "plt.ylim(0,1)\n",
    " \n",
    "p=plt.savefig('Groundstate_density_4S_na{}_nb0_r{}.jpg'.format(n,rd), format='jpg', dpi=300)"
   ]
  },
  {
   "cell_type": "code",
   "execution_count": null,
   "metadata": {},
   "outputs": [],
   "source": []
  },
  {
   "cell_type": "code",
   "execution_count": null,
   "metadata": {},
   "outputs": [],
   "source": []
  }
 ],
 "metadata": {
  "kernelspec": {
   "display_name": "Python 3",
   "language": "python",
   "name": "python3"
  },
  "language_info": {
   "codemirror_mode": {
    "name": "ipython",
    "version": 3
   },
   "file_extension": ".py",
   "mimetype": "text/x-python",
   "name": "python",
   "nbconvert_exporter": "python",
   "pygments_lexer": "ipython3",
   "version": "3.7.4"
  }
 },
 "nbformat": 4,
 "nbformat_minor": 2
}
